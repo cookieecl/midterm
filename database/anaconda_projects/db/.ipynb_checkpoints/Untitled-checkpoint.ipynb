{
 "cells": [
  {
   "cell_type": "markdown",
   "id": "cd9eb81d-1391-4ea8-a2f6-08592672d5c9",
   "metadata": {},
   "source": [
    "<h3>topic 1: three-tier application</h3>"
   ]
  },
  {
   "cell_type": "markdown",
   "id": "5455a276-4a36-481f-a0de-9a238054089b",
   "metadata": {},
   "source": [
    "<h4>calling a web application</h4>\n",
    "<ol>\n",
    "    <li>URL is typed into the browser </li>\n",
    "    <li>check browser cache</li>\n",
    "    <li>if its not available in the cache, the DNS (domain name server) lookup to find the IP address of the server,\n",
    "        <span style=\"background-color: pink;\">it maintains a directory of domain names and translate them to internet protocol, each IP identifies a machine connected to the internet</span></li>\n",
    "    <li>browser initiates a TCP (transmission control protocol) connection with the server,\n",
    "        <span style=\"background-color: pink;\">this facilitates communication between a machine and the Internet</span</li>\n",
    "    <li>browser sends HTTP (hypertext transfer protocol) request to the server. \n",
    "        <span style=\"background-color: pink;\">HTTP is the main protocol used to transfer hypertext pages which are written in HTML from a web server to a browser</span></li>\n",
    "    <li>server handles incoming request</li>\n",
    "    <li>browser receive HTTP response</li>\n",
    "    <li>browser displays HTML content (if its available in the cache, this step will be run straight away)</li>\n",
    "</ol>"
   ]
  },
  {
   "cell_type": "markdown",
   "id": "2ce95ac8-3037-4f30-b74c-f55f18f640d9",
   "metadata": {},
   "source": [
    "<h4>http protocol</h4>\n",
    "<ol>\n",
    "    <li>the client, which could be the web browser, makes a request for a particular resource.</li>\n",
    "    <li>scripts on the server evaluates the request and return a response which may or may not include the requested resource plus some other stuff.</li>\n",
    "    <li>The web browser will evaluate the response and decide what to display and how to display it.</li>\n",
    "</ol>"
   ]
  },
  {
   "cell_type": "markdown",
   "id": "633afcff-1563-428a-a73a-d7369b272b10",
   "metadata": {},
   "source": [
    "<h4>dynamic web pages</h4>\n",
    "dynamic websites are not based on files in your computer's file system, rather they are based on programs which are run by the web server when a request comes in and which generate the content that is returned to the user. The page content will come from a database.\n"
   ]
  },
  {
   "cell_type": "markdown",
   "id": "a3009c68-b95d-4b3a-8358-1f3982c55034",
   "metadata": {},
   "source": [
    "<h4>three-tier web application: architecture</h4>\n",
    "a client server architecture in which the user interface, application logic and data storage are developed, and maintained as independent modules\n",
    "<ul>\n",
    "    <li><span style=\"background-color: pink;\">the presentation or user interface tier </span> receives input and displays output.</li>\n",
    "    <li><span style=\"background-color: pink;\">the application tier </span> processes the logic and makes the calculations.</li>\n",
    "    <li><span style=\"background-color: pink;\">The database tier stores and manages data.</span</li>\n",
    "</ul>\n",
    "\n",
    "\n",
    "\n"
   ]
  }
 ],
 "metadata": {
  "kernelspec": {
   "display_name": "Python (Anaconda)",
   "language": "python",
   "name": "anaconda_env"
  },
  "language_info": {
   "codemirror_mode": {
    "name": "ipython",
    "version": 3
   },
   "file_extension": ".py",
   "mimetype": "text/x-python",
   "name": "python",
   "nbconvert_exporter": "python",
   "pygments_lexer": "ipython3",
   "version": "3.12.2"
  }
 },
 "nbformat": 4,
 "nbformat_minor": 5
}
